{
 "cells": [
  {
   "cell_type": "code",
   "execution_count": 1,
   "metadata": {},
   "outputs": [
    {
     "data": {
      "text/html": [
       "<div>\n",
       "<style scoped>\n",
       "    .dataframe tbody tr th:only-of-type {\n",
       "        vertical-align: middle;\n",
       "    }\n",
       "\n",
       "    .dataframe tbody tr th {\n",
       "        vertical-align: top;\n",
       "    }\n",
       "\n",
       "    .dataframe thead th {\n",
       "        text-align: right;\n",
       "    }\n",
       "</style>\n",
       "<table border=\"1\" class=\"dataframe\">\n",
       "  <thead>\n",
       "    <tr style=\"text-align: right;\">\n",
       "      <th></th>\n",
       "      <th>Pol</th>\n",
       "      <th>Dužina</th>\n",
       "      <th>Prečnik</th>\n",
       "      <th>Visina</th>\n",
       "      <th>Ukupna težina</th>\n",
       "      <th>Težina mesa</th>\n",
       "      <th>Težina utrobe</th>\n",
       "      <th>Težina ljuske</th>\n",
       "      <th>Broj prstena</th>\n",
       "    </tr>\n",
       "  </thead>\n",
       "  <tbody>\n",
       "    <tr>\n",
       "      <td>0</td>\n",
       "      <td>M</td>\n",
       "      <td>0.455</td>\n",
       "      <td>0.365</td>\n",
       "      <td>0.095</td>\n",
       "      <td>0.5140</td>\n",
       "      <td>0.2245</td>\n",
       "      <td>0.1010</td>\n",
       "      <td>0.150</td>\n",
       "      <td>15</td>\n",
       "    </tr>\n",
       "    <tr>\n",
       "      <td>1</td>\n",
       "      <td>M</td>\n",
       "      <td>0.350</td>\n",
       "      <td>0.265</td>\n",
       "      <td>0.090</td>\n",
       "      <td>0.2255</td>\n",
       "      <td>0.0995</td>\n",
       "      <td>0.0485</td>\n",
       "      <td>0.070</td>\n",
       "      <td>7</td>\n",
       "    </tr>\n",
       "    <tr>\n",
       "      <td>2</td>\n",
       "      <td>F</td>\n",
       "      <td>0.530</td>\n",
       "      <td>0.420</td>\n",
       "      <td>0.135</td>\n",
       "      <td>0.6770</td>\n",
       "      <td>0.2565</td>\n",
       "      <td>0.1415</td>\n",
       "      <td>0.210</td>\n",
       "      <td>9</td>\n",
       "    </tr>\n",
       "    <tr>\n",
       "      <td>3</td>\n",
       "      <td>M</td>\n",
       "      <td>0.440</td>\n",
       "      <td>0.365</td>\n",
       "      <td>0.125</td>\n",
       "      <td>0.5160</td>\n",
       "      <td>0.2155</td>\n",
       "      <td>0.1140</td>\n",
       "      <td>0.155</td>\n",
       "      <td>10</td>\n",
       "    </tr>\n",
       "    <tr>\n",
       "      <td>4</td>\n",
       "      <td>I</td>\n",
       "      <td>0.330</td>\n",
       "      <td>0.255</td>\n",
       "      <td>0.080</td>\n",
       "      <td>0.2050</td>\n",
       "      <td>0.0895</td>\n",
       "      <td>0.0395</td>\n",
       "      <td>0.055</td>\n",
       "      <td>7</td>\n",
       "    </tr>\n",
       "  </tbody>\n",
       "</table>\n",
       "</div>"
      ],
      "text/plain": [
       "  Pol  Dužina  Prečnik  Visina  Ukupna težina  Težina mesa  Težina utrobe  \\\n",
       "0   M   0.455    0.365   0.095         0.5140       0.2245         0.1010   \n",
       "1   M   0.350    0.265   0.090         0.2255       0.0995         0.0485   \n",
       "2   F   0.530    0.420   0.135         0.6770       0.2565         0.1415   \n",
       "3   M   0.440    0.365   0.125         0.5160       0.2155         0.1140   \n",
       "4   I   0.330    0.255   0.080         0.2050       0.0895         0.0395   \n",
       "\n",
       "   Težina ljuske  Broj prstena  \n",
       "0          0.150            15  \n",
       "1          0.070             7  \n",
       "2          0.210             9  \n",
       "3          0.155            10  \n",
       "4          0.055             7  "
      ]
     },
     "execution_count": 1,
     "metadata": {},
     "output_type": "execute_result"
    }
   ],
   "source": [
    "# Ucitavanje biblioteka\n",
    "import pandas as pd\n",
    "import numpy as np\n",
    "import matplotlib.pyplot as plt\n",
    "\n",
    "# Data frame - iz pandas-a\n",
    "imena = [\"Pol\", \"Dužina\", \"Prečnik\", \"Visina\", \"Ukupna težina\", \"Težina mesa\", \"Težina utrobe\", \"Težina ljuske\", \"Broj prstena\"]\n",
    "podaci_df=pd.read_csv('abalone.csv', names = imena) #ucitavanje podataka\n",
    "podaci_df.head() #prikaz prvih 5 redova"
   ]
  },
  {
   "cell_type": "code",
   "execution_count": 2,
   "metadata": {},
   "outputs": [
    {
     "data": {
      "text/html": [
       "<div>\n",
       "<style scoped>\n",
       "    .dataframe tbody tr th:only-of-type {\n",
       "        vertical-align: middle;\n",
       "    }\n",
       "\n",
       "    .dataframe tbody tr th {\n",
       "        vertical-align: top;\n",
       "    }\n",
       "\n",
       "    .dataframe thead th {\n",
       "        text-align: right;\n",
       "    }\n",
       "</style>\n",
       "<table border=\"1\" class=\"dataframe\">\n",
       "  <thead>\n",
       "    <tr style=\"text-align: right;\">\n",
       "      <th></th>\n",
       "      <th>Pol</th>\n",
       "      <th>Dužina</th>\n",
       "      <th>Prečnik</th>\n",
       "      <th>Visina</th>\n",
       "      <th>Ukupna težina</th>\n",
       "      <th>Težina mesa</th>\n",
       "      <th>Težina utrobe</th>\n",
       "      <th>Težina ljuske</th>\n",
       "      <th>Broj prstena</th>\n",
       "    </tr>\n",
       "  </thead>\n",
       "  <tbody>\n",
       "    <tr>\n",
       "      <td>0</td>\n",
       "      <td>1.0</td>\n",
       "      <td>0.455</td>\n",
       "      <td>0.365</td>\n",
       "      <td>0.095</td>\n",
       "      <td>0.5140</td>\n",
       "      <td>0.2245</td>\n",
       "      <td>0.1010</td>\n",
       "      <td>0.150</td>\n",
       "      <td>15</td>\n",
       "    </tr>\n",
       "    <tr>\n",
       "      <td>1</td>\n",
       "      <td>1.0</td>\n",
       "      <td>0.350</td>\n",
       "      <td>0.265</td>\n",
       "      <td>0.090</td>\n",
       "      <td>0.2255</td>\n",
       "      <td>0.0995</td>\n",
       "      <td>0.0485</td>\n",
       "      <td>0.070</td>\n",
       "      <td>7</td>\n",
       "    </tr>\n",
       "    <tr>\n",
       "      <td>2</td>\n",
       "      <td>0.5</td>\n",
       "      <td>0.530</td>\n",
       "      <td>0.420</td>\n",
       "      <td>0.135</td>\n",
       "      <td>0.6770</td>\n",
       "      <td>0.2565</td>\n",
       "      <td>0.1415</td>\n",
       "      <td>0.210</td>\n",
       "      <td>9</td>\n",
       "    </tr>\n",
       "    <tr>\n",
       "      <td>3</td>\n",
       "      <td>1.0</td>\n",
       "      <td>0.440</td>\n",
       "      <td>0.365</td>\n",
       "      <td>0.125</td>\n",
       "      <td>0.5160</td>\n",
       "      <td>0.2155</td>\n",
       "      <td>0.1140</td>\n",
       "      <td>0.155</td>\n",
       "      <td>10</td>\n",
       "    </tr>\n",
       "    <tr>\n",
       "      <td>4</td>\n",
       "      <td>0.0</td>\n",
       "      <td>0.330</td>\n",
       "      <td>0.255</td>\n",
       "      <td>0.080</td>\n",
       "      <td>0.2050</td>\n",
       "      <td>0.0895</td>\n",
       "      <td>0.0395</td>\n",
       "      <td>0.055</td>\n",
       "      <td>7</td>\n",
       "    </tr>\n",
       "  </tbody>\n",
       "</table>\n",
       "</div>"
      ],
      "text/plain": [
       "   Pol  Dužina  Prečnik  Visina  Ukupna težina  Težina mesa  Težina utrobe  \\\n",
       "0  1.0   0.455    0.365   0.095         0.5140       0.2245         0.1010   \n",
       "1  1.0   0.350    0.265   0.090         0.2255       0.0995         0.0485   \n",
       "2  0.5   0.530    0.420   0.135         0.6770       0.2565         0.1415   \n",
       "3  1.0   0.440    0.365   0.125         0.5160       0.2155         0.1140   \n",
       "4  0.0   0.330    0.255   0.080         0.2050       0.0895         0.0395   \n",
       "\n",
       "   Težina ljuske  Broj prstena  \n",
       "0          0.150            15  \n",
       "1          0.070             7  \n",
       "2          0.210             9  \n",
       "3          0.155            10  \n",
       "4          0.055             7  "
      ]
     },
     "execution_count": 2,
     "metadata": {},
     "output_type": "execute_result"
    }
   ],
   "source": [
    "# Kodiranje pola\n",
    "podaci_df['Pol'] = podaci_df['Pol'].replace({'M': 1.0, 'F': 0.5, 'I': 0.0}) #normalizovane vrednosti\n",
    "podaci_df.head()"
   ]
  },
  {
   "cell_type": "code",
   "execution_count": 3,
   "metadata": {},
   "outputs": [
    {
     "name": "stdout",
     "output_type": "stream",
     "text": [
      "<class 'pandas.core.frame.DataFrame'>\n",
      "RangeIndex: 4177 entries, 0 to 4176\n",
      "Data columns (total 9 columns):\n",
      "Pol              4177 non-null float64\n",
      "Dužina           4177 non-null float64\n",
      "Prečnik          4177 non-null float64\n",
      "Visina           4177 non-null float64\n",
      "Ukupna težina    4177 non-null float64\n",
      "Težina mesa      4177 non-null float64\n",
      "Težina utrobe    4177 non-null float64\n",
      "Težina ljuske    4177 non-null float64\n",
      "Broj prstena     4177 non-null int64\n",
      "dtypes: float64(8), int64(1)\n",
      "memory usage: 293.8 KB\n"
     ]
    }
   ],
   "source": [
    "# Opis podataka\n",
    "podaci_df.info()"
   ]
  },
  {
   "cell_type": "code",
   "execution_count": 4,
   "metadata": {},
   "outputs": [
    {
     "data": {
      "text/html": [
       "<div>\n",
       "<style scoped>\n",
       "    .dataframe tbody tr th:only-of-type {\n",
       "        vertical-align: middle;\n",
       "    }\n",
       "\n",
       "    .dataframe tbody tr th {\n",
       "        vertical-align: top;\n",
       "    }\n",
       "\n",
       "    .dataframe thead th {\n",
       "        text-align: right;\n",
       "    }\n",
       "</style>\n",
       "<table border=\"1\" class=\"dataframe\">\n",
       "  <thead>\n",
       "    <tr style=\"text-align: right;\">\n",
       "      <th></th>\n",
       "      <th>count</th>\n",
       "      <th>mean</th>\n",
       "      <th>std</th>\n",
       "      <th>min</th>\n",
       "      <th>25%</th>\n",
       "      <th>50%</th>\n",
       "      <th>75%</th>\n",
       "      <th>max</th>\n",
       "    </tr>\n",
       "  </thead>\n",
       "  <tbody>\n",
       "    <tr>\n",
       "      <td>Pol</td>\n",
       "      <td>4177.0</td>\n",
       "      <td>0.522265</td>\n",
       "      <td>0.413907</td>\n",
       "      <td>0.0000</td>\n",
       "      <td>0.0000</td>\n",
       "      <td>0.5000</td>\n",
       "      <td>1.000</td>\n",
       "      <td>1.0000</td>\n",
       "    </tr>\n",
       "    <tr>\n",
       "      <td>Dužina</td>\n",
       "      <td>4177.0</td>\n",
       "      <td>0.523992</td>\n",
       "      <td>0.120093</td>\n",
       "      <td>0.0750</td>\n",
       "      <td>0.4500</td>\n",
       "      <td>0.5450</td>\n",
       "      <td>0.615</td>\n",
       "      <td>0.8150</td>\n",
       "    </tr>\n",
       "    <tr>\n",
       "      <td>Prečnik</td>\n",
       "      <td>4177.0</td>\n",
       "      <td>0.407881</td>\n",
       "      <td>0.099240</td>\n",
       "      <td>0.0550</td>\n",
       "      <td>0.3500</td>\n",
       "      <td>0.4250</td>\n",
       "      <td>0.480</td>\n",
       "      <td>0.6500</td>\n",
       "    </tr>\n",
       "    <tr>\n",
       "      <td>Visina</td>\n",
       "      <td>4177.0</td>\n",
       "      <td>0.139516</td>\n",
       "      <td>0.041827</td>\n",
       "      <td>0.0000</td>\n",
       "      <td>0.1150</td>\n",
       "      <td>0.1400</td>\n",
       "      <td>0.165</td>\n",
       "      <td>1.1300</td>\n",
       "    </tr>\n",
       "    <tr>\n",
       "      <td>Ukupna težina</td>\n",
       "      <td>4177.0</td>\n",
       "      <td>0.828742</td>\n",
       "      <td>0.490389</td>\n",
       "      <td>0.0020</td>\n",
       "      <td>0.4415</td>\n",
       "      <td>0.7995</td>\n",
       "      <td>1.153</td>\n",
       "      <td>2.8255</td>\n",
       "    </tr>\n",
       "    <tr>\n",
       "      <td>Težina mesa</td>\n",
       "      <td>4177.0</td>\n",
       "      <td>0.359367</td>\n",
       "      <td>0.221963</td>\n",
       "      <td>0.0010</td>\n",
       "      <td>0.1860</td>\n",
       "      <td>0.3360</td>\n",
       "      <td>0.502</td>\n",
       "      <td>1.4880</td>\n",
       "    </tr>\n",
       "    <tr>\n",
       "      <td>Težina utrobe</td>\n",
       "      <td>4177.0</td>\n",
       "      <td>0.180594</td>\n",
       "      <td>0.109614</td>\n",
       "      <td>0.0005</td>\n",
       "      <td>0.0935</td>\n",
       "      <td>0.1710</td>\n",
       "      <td>0.253</td>\n",
       "      <td>0.7600</td>\n",
       "    </tr>\n",
       "    <tr>\n",
       "      <td>Težina ljuske</td>\n",
       "      <td>4177.0</td>\n",
       "      <td>0.238831</td>\n",
       "      <td>0.139203</td>\n",
       "      <td>0.0015</td>\n",
       "      <td>0.1300</td>\n",
       "      <td>0.2340</td>\n",
       "      <td>0.329</td>\n",
       "      <td>1.0050</td>\n",
       "    </tr>\n",
       "    <tr>\n",
       "      <td>Broj prstena</td>\n",
       "      <td>4177.0</td>\n",
       "      <td>9.933684</td>\n",
       "      <td>3.224169</td>\n",
       "      <td>1.0000</td>\n",
       "      <td>8.0000</td>\n",
       "      <td>9.0000</td>\n",
       "      <td>11.000</td>\n",
       "      <td>29.0000</td>\n",
       "    </tr>\n",
       "  </tbody>\n",
       "</table>\n",
       "</div>"
      ],
      "text/plain": [
       "                count      mean       std     min     25%     50%     75%  \\\n",
       "Pol            4177.0  0.522265  0.413907  0.0000  0.0000  0.5000   1.000   \n",
       "Dužina         4177.0  0.523992  0.120093  0.0750  0.4500  0.5450   0.615   \n",
       "Prečnik        4177.0  0.407881  0.099240  0.0550  0.3500  0.4250   0.480   \n",
       "Visina         4177.0  0.139516  0.041827  0.0000  0.1150  0.1400   0.165   \n",
       "Ukupna težina  4177.0  0.828742  0.490389  0.0020  0.4415  0.7995   1.153   \n",
       "Težina mesa    4177.0  0.359367  0.221963  0.0010  0.1860  0.3360   0.502   \n",
       "Težina utrobe  4177.0  0.180594  0.109614  0.0005  0.0935  0.1710   0.253   \n",
       "Težina ljuske  4177.0  0.238831  0.139203  0.0015  0.1300  0.2340   0.329   \n",
       "Broj prstena   4177.0  9.933684  3.224169  1.0000  8.0000  9.0000  11.000   \n",
       "\n",
       "                   max  \n",
       "Pol             1.0000  \n",
       "Dužina          0.8150  \n",
       "Prečnik         0.6500  \n",
       "Visina          1.1300  \n",
       "Ukupna težina   2.8255  \n",
       "Težina mesa     1.4880  \n",
       "Težina utrobe   0.7600  \n",
       "Težina ljuske   1.0050  \n",
       "Broj prstena   29.0000  "
      ]
     },
     "execution_count": 4,
     "metadata": {},
     "output_type": "execute_result"
    }
   ],
   "source": [
    "# Opis podataka - nastavak\n",
    "podaci_df.describe().T"
   ]
  },
  {
   "cell_type": "code",
   "execution_count": 5,
   "metadata": {},
   "outputs": [
    {
     "name": "stdout",
     "output_type": "stream",
     "text": [
      "Broj abalonea pre izbacivanja = 4177\n",
      "Broj abalonea nakon izbacivanja = 4175\n"
     ]
    }
   ],
   "source": [
    "# Izbacivanje abalonea sa visinom = 0\n",
    "print(\"Broj abalonea pre izbacivanja =\", podaci_df.shape[0])\n",
    "podaci_df = podaci_df.drop(podaci_df[podaci_df['Visina'] == 0].index).reset_index(drop=True)\n",
    "print(\"Broj abalonea nakon izbacivanja =\", podaci_df.shape[0])"
   ]
  },
  {
   "cell_type": "code",
   "execution_count": 6,
   "metadata": {},
   "outputs": [
    {
     "name": "stdout",
     "output_type": "stream",
     "text": [
      "Broj abalonea nakon novog izbacivanja = 4021\n"
     ]
    }
   ],
   "source": [
    "# Izbacivanje abalonea sa greskom u evidenciji tezine.\n",
    "# Ukupna tezina mora biti veca od pojedinacnih (desava se gubitak tecnosti pri otvaranju i ciscenju)\n",
    "upit = podaci_df['Ukupna težina'] < podaci_df['Težina mesa'] + podaci_df['Težina utrobe'] + podaci_df['Težina ljuske']\n",
    "podaci_df = podaci_df.drop(podaci_df[upit].index).reset_index(drop=True)\n",
    "print(\"Broj abalonea nakon novog izbacivanja =\", podaci_df.shape[0])"
   ]
  },
  {
   "cell_type": "code",
   "execution_count": 7,
   "metadata": {},
   "outputs": [
    {
     "data": {
      "text/plain": [
       "array([[<matplotlib.axes._subplots.AxesSubplot object at 0x00000000040C0BC8>,\n",
       "        <matplotlib.axes._subplots.AxesSubplot object at 0x00000000090ADD08>,\n",
       "        <matplotlib.axes._subplots.AxesSubplot object at 0x00000000090EBBC8>],\n",
       "       [<matplotlib.axes._subplots.AxesSubplot object at 0x0000000009122D08>,\n",
       "        <matplotlib.axes._subplots.AxesSubplot object at 0x000000000915CD88>,\n",
       "        <matplotlib.axes._subplots.AxesSubplot object at 0x0000000009193DC8>],\n",
       "       [<matplotlib.axes._subplots.AxesSubplot object at 0x00000000091BDC88>,\n",
       "        <matplotlib.axes._subplots.AxesSubplot object at 0x00000000093F7088>,\n",
       "        <matplotlib.axes._subplots.AxesSubplot object at 0x00000000093FCC08>]],\n",
       "      dtype=object)"
      ]
     },
     "execution_count": 7,
     "metadata": {},
     "output_type": "execute_result"
    },
    {
     "data": {
      "image/png": "[encoded data removed]",
      "text/plain": [
       "<Figure size 1080x720 with 9 Axes>"
      ]
     },
     "metadata": {
      "needs_background": "light"
     },
     "output_type": "display_data"
    }
   ],
   "source": [
    "# Histogrami za sve atribute\n",
    "podaci_df.hist(figsize=(15, 10), edgecolor='white')"
   ]
  },
  {
   "cell_type": "code",
   "execution_count": 8,
   "metadata": {},
   "outputs": [
    {
     "data": {
      "text/plain": [
       "count    4021.000000\n",
       "mean       10.003482\n",
       "std         3.221892\n",
       "min         2.000000\n",
       "25%         8.000000\n",
       "50%        10.000000\n",
       "75%        11.000000\n",
       "max        29.000000\n",
       "Name: Broj prstena, dtype: float64"
      ]
     },
     "execution_count": 8,
     "metadata": {},
     "output_type": "execute_result"
    }
   ],
   "source": [
    "podaci_df['Broj prstena'].describe()"
   ]
  },
  {
   "cell_type": "code",
   "execution_count": 9,
   "metadata": {},
   "outputs": [
    {
     "name": "stdout",
     "output_type": "stream",
     "text": [
      "Broj klasa (broj jedinstvenih prstena) = 27\n"
     ]
    }
   ],
   "source": [
    "# Provera broja klasa - broj prstena\n",
    "broj_klasa = podaci_df['Broj prstena'].nunique()\n",
    "print(\"Broj klasa (broj jedinstvenih prstena) =\", broj_klasa)"
   ]
  },
  {
   "cell_type": "code",
   "execution_count": 10,
   "metadata": {},
   "outputs": [
    {
     "name": "stdout",
     "output_type": "stream",
     "text": [
      "Broj abalonea po broju prstena:\n",
      "\n",
      "2       1\n",
      "3      12\n",
      "4      50\n",
      "5     102\n",
      "6     240\n",
      "7     369\n",
      "8     543\n",
      "9     662\n",
      "10    620\n",
      "11    478\n",
      "12    260\n",
      "13    199\n",
      "14    126\n",
      "15    100\n",
      "16     66\n",
      "17     58\n",
      "18     42\n",
      "19     31\n",
      "20     26\n",
      "21     14\n",
      "22      6\n",
      "23      9\n",
      "24      2\n",
      "25      1\n",
      "26      1\n",
      "27      2\n",
      "29      1\n",
      "Name: Broj prstena, dtype: int64\n"
     ]
    }
   ],
   "source": [
    "# Broj abalonea po broju prstena\n",
    "broj_prstena = podaci_df['Broj prstena'].value_counts().sort_index()\n",
    "print(\"Broj abalonea po broju prstena:\\n\")\n",
    "print(broj_prstena)"
   ]
  },
  {
   "cell_type": "code",
   "execution_count": 11,
   "metadata": {},
   "outputs": [
    {
     "data": {
      "image/png": "[encoded data removed]",
      "text/plain": [
       "<Figure size 720x432 with 1 Axes>"
      ]
     },
     "metadata": {
      "needs_background": "light"
     },
     "output_type": "display_data"
    }
   ],
   "source": [
    "# Graficka predstava broja abalonea po broju prstena\n",
    "plt.figure(figsize=(10, 6))\n",
    "plt.bar(broj_prstena.index, broj_prstena.values)\n",
    "plt.xlabel('Broj prstena')\n",
    "plt.ylabel('Broj abalonea')\n",
    "plt.title('Broj abalonea po broju prstena')\n",
    "plt.show()"
   ]
  },
  {
   "cell_type": "code",
   "execution_count": 12,
   "metadata": {
    "scrolled": true
   },
   "outputs": [
    {
     "data": {
      "image/png": "[encoded data removed]",
      "text/plain": [
       "<Figure size 432x288 with 1 Axes>"
      ]
     },
     "metadata": {
      "needs_background": "light"
     },
     "output_type": "display_data"
    }
   ],
   "source": [
    "# Broj abalonea po polu\n",
    "clanovi_po_polu = podaci_df['Pol'].value_counts()\n",
    "boje = ['blue', 'red', 'green']\n",
    "\n",
    "# Grafik\n",
    "plt.bar(clanovi_po_polu.index, clanovi_po_polu.values, width = 0.45, color=boje)\n",
    "plt.xlabel('Pol (mladunci - 0.0, ženski - 0.5, muški - 1.0)')\n",
    "plt.ylabel('Broj abalonea')\n",
    "plt.title('Broj abalonea po polu')\n",
    "\n",
    "# Podeoci na x osi\n",
    "plt.xticks((0.0, 0.5, 1.0))\n",
    "plt.show()"
   ]
  },
  {
   "cell_type": "code",
   "execution_count": 13,
   "metadata": {},
   "outputs": [
    {
     "data": {
      "image/png": "[encoded data removed]",
      "text/plain": [
       "<Figure size 864x432 with 1 Axes>"
      ]
     },
     "metadata": {
      "needs_background": "light"
     },
     "output_type": "display_data"
    }
   ],
   "source": [
    "# Podaci po polu\n",
    "m_podaci_df = podaci_df[podaci_df['Pol'] == 1.0]\n",
    "z_podaci_df = podaci_df[podaci_df['Pol'] == 0.5]\n",
    "ml_podaci_df = podaci_df[podaci_df['Pol'] == 0.0]\n",
    "\n",
    "# Podaci za odrasle\n",
    "o_podaci_df = podaci_df[podaci_df['Pol'] > 0.0]\n",
    "\n",
    "# Broj prstena po polu\n",
    "m_prsteni = m_podaci_df['Broj prstena'].value_counts().sort_index()\n",
    "z_prsteni = z_podaci_df['Broj prstena'].value_counts().sort_index()\n",
    "ml_prsteni = ml_podaci_df['Broj prstena'].value_counts().sort_index()\n",
    "o_prsteni = o_podaci_df['Broj prstena'].value_counts().sort_index()\n",
    "\n",
    "plt.figure(figsize=(12, 6))\n",
    "\n",
    "# Grafici\n",
    "plt.plot(m_prsteni.index, m_prsteni.values, color='blue', linewidth=2, label='Muški')\n",
    "plt.plot(z_prsteni.index, z_prsteni.values, color='red', linewidth=2, label='Ženski')\n",
    "plt.plot(ml_prsteni.index, ml_prsteni.values, color='green', linewidth=2, label='Mladunci')\n",
    "plt.plot(o_prsteni.index, o_prsteni.values, color='black', linewidth=2, label='Odrasli')\n",
    "\n",
    "plt.xlabel('Broj prstena')\n",
    "plt.ylabel('Broj abalonea')\n",
    "plt.title('Broj Abalonea po broju prstena i polu')\n",
    "\n",
    "plt.legend()\n",
    "plt.grid(True, linestyle='--')\n",
    "\n",
    "# Podeoci na x osi\n",
    "plt.xticks(range(min(podaci_df['Broj prstena']), max(podaci_df['Broj prstena'])+1))\n",
    "\n",
    "plt.show()"
   ]
  },
  {
   "cell_type": "code",
   "execution_count": 14,
   "metadata": {},
   "outputs": [
    {
     "data": {
      "text/html": [
       "<div>\n",
       "<style scoped>\n",
       "    .dataframe tbody tr th:only-of-type {\n",
       "        vertical-align: middle;\n",
       "    }\n",
       "\n",
       "    .dataframe tbody tr th {\n",
       "        vertical-align: top;\n",
       "    }\n",
       "\n",
       "    .dataframe thead th {\n",
       "        text-align: right;\n",
       "    }\n",
       "</style>\n",
       "<table border=\"1\" class=\"dataframe\">\n",
       "  <thead>\n",
       "    <tr style=\"text-align: right;\">\n",
       "      <th></th>\n",
       "      <th>Pol</th>\n",
       "      <th>Dužina</th>\n",
       "      <th>Prečnik</th>\n",
       "      <th>Visina</th>\n",
       "      <th>Ukupna težina</th>\n",
       "      <th>Težina mesa</th>\n",
       "      <th>Težina utrobe</th>\n",
       "      <th>Težina ljuske</th>\n",
       "      <th>Broj prstena</th>\n",
       "      <th>Starost</th>\n",
       "    </tr>\n",
       "  </thead>\n",
       "  <tbody>\n",
       "    <tr>\n",
       "      <td>0</td>\n",
       "      <td>1.0</td>\n",
       "      <td>0.455</td>\n",
       "      <td>0.365</td>\n",
       "      <td>0.095</td>\n",
       "      <td>0.514</td>\n",
       "      <td>0.2245</td>\n",
       "      <td>0.101</td>\n",
       "      <td>0.15</td>\n",
       "      <td>15</td>\n",
       "      <td>1</td>\n",
       "    </tr>\n",
       "  </tbody>\n",
       "</table>\n",
       "</div>"
      ],
      "text/plain": [
       "   Pol  Dužina  Prečnik  Visina  Ukupna težina  Težina mesa  Težina utrobe  \\\n",
       "0  1.0   0.455    0.365   0.095          0.514       0.2245          0.101   \n",
       "\n",
       "   Težina ljuske  Broj prstena Starost  \n",
       "0           0.15            15       1  "
      ]
     },
     "execution_count": 14,
     "metadata": {},
     "output_type": "execute_result"
    }
   ],
   "source": [
    "# Podela na starosne kategorije - smanjenje klasifikacije\n",
    "uslovi = [\n",
    "    podaci_df['Broj prstena'] <= 8, #mladi\n",
    "    (podaci_df['Broj prstena'] > 8) & (podaci_df['Broj prstena'] <= 16), #zreli\n",
    "    podaci_df['Broj prstena'] > 16 #stari\n",
    "]\n",
    "vrednosti = [0, 1, 2] #mladi, zreli, stari\n",
    "\n",
    "# Dodavanje nove kolone - starost\n",
    "podaci_df['Starost'] = pd.Series(pd.Categorical(np.select(uslovi, vrednosti), ordered=True))\n",
    "\n",
    "podaci_df.head(1)"
   ]
  },
  {
   "cell_type": "code",
   "execution_count": 15,
   "metadata": {},
   "outputs": [
    {
     "data": {
      "text/html": [
       "<div>\n",
       "<style scoped>\n",
       "    .dataframe tbody tr th:only-of-type {\n",
       "        vertical-align: middle;\n",
       "    }\n",
       "\n",
       "    .dataframe tbody tr th {\n",
       "        vertical-align: top;\n",
       "    }\n",
       "\n",
       "    .dataframe thead th {\n",
       "        text-align: right;\n",
       "    }\n",
       "</style>\n",
       "<table border=\"1\" class=\"dataframe\">\n",
       "  <thead>\n",
       "    <tr style=\"text-align: right;\">\n",
       "      <th></th>\n",
       "      <th>Pol</th>\n",
       "      <th>Dužina</th>\n",
       "      <th>Prečnik</th>\n",
       "      <th>Visina</th>\n",
       "      <th>Ukupna težina</th>\n",
       "      <th>Težina mesa</th>\n",
       "      <th>Težina utrobe</th>\n",
       "      <th>Težina ljuske</th>\n",
       "      <th>Starost</th>\n",
       "    </tr>\n",
       "  </thead>\n",
       "  <tbody>\n",
       "    <tr>\n",
       "      <td>0</td>\n",
       "      <td>1.0</td>\n",
       "      <td>0.455</td>\n",
       "      <td>0.365</td>\n",
       "      <td>0.095</td>\n",
       "      <td>0.514</td>\n",
       "      <td>0.2245</td>\n",
       "      <td>0.101</td>\n",
       "      <td>0.15</td>\n",
       "      <td>1</td>\n",
       "    </tr>\n",
       "  </tbody>\n",
       "</table>\n",
       "</div>"
      ],
      "text/plain": [
       "   Pol  Dužina  Prečnik  Visina  Ukupna težina  Težina mesa  Težina utrobe  \\\n",
       "0  1.0   0.455    0.365   0.095          0.514       0.2245          0.101   \n",
       "\n",
       "   Težina ljuske Starost  \n",
       "0           0.15       1  "
      ]
     },
     "execution_count": 15,
     "metadata": {},
     "output_type": "execute_result"
    }
   ],
   "source": [
    "# Izbacivanje prstena\n",
    "podaci_df = podaci_df.drop(['Broj prstena'], axis=1)\n",
    "podaci_df.head(1)"
   ]
  },
  {
   "cell_type": "code",
   "execution_count": 16,
   "metadata": {},
   "outputs": [],
   "source": [
    "from sklearn.model_selection import train_test_split\n",
    "\n",
    "# Podela podataka na nezavisne i zavisne podatke\n",
    "X = podaci_df.drop('Starost', axis=1)\n",
    "y = podaci_df['Starost']\n",
    "\n",
    "# Podela podataka na trening i test skup\n",
    "X_train, X_test, y_train, y_test = train_test_split(X, y, test_size=0.2, random_state=42)"
   ]
  },
  {
   "cell_type": "code",
   "execution_count": 17,
   "metadata": {},
   "outputs": [
    {
     "name": "stderr",
     "output_type": "stream",
     "text": [
      "C:\\ProgramData\\Anaconda3\\lib\\site-packages\\sklearn\\model_selection\\_split.py:1978: FutureWarning: The default value of cv will change from 3 to 5 in version 0.22. Specify it explicitly to silence this warning.\n",
      "  warnings.warn(CV_WARNING, FutureWarning)\n"
     ]
    },
    {
     "name": "stdout",
     "output_type": "stream",
     "text": [
      "Tacnost na trening skupu:  0.7944651741293532\n",
      "Najbolji parametri:\n",
      " {'alpha': 0.1, 'hidden_layer_sizes': 5, 'max_iter': 500, 'random_state': 10, 'solver': 'lbfgs'}\n"
     ]
    }
   ],
   "source": [
    "#Trening skup - pronalazak najboljih parametara\n",
    "from sklearn.neural_network import MLPClassifier\n",
    "from sklearn.model_selection import GridSearchCV\n",
    "\n",
    "parametri = {'solver': ['lbfgs', ], 'max_iter': [500, 1000, 1500], 'alpha': 10.0 ** -np.arange(1, 10),\n",
    "             'hidden_layer_sizes':np.arange(4, 6), 'random_state':[10]}\n",
    "\n",
    "mplc = GridSearchCV(MLPClassifier(), parametri, n_jobs=-1)\n",
    "mplc = mplc.fit(X_train, y_train)\n",
    "print(\"Tacnost na trening skupu: \", mplc.score(X_train, y_train))\n",
    "print(\"Najbolji parametri:\\n\", mplc.best_params_)"
   ]
  },
  {
   "cell_type": "code",
   "execution_count": 18,
   "metadata": {},
   "outputs": [
    {
     "name": "stdout",
     "output_type": "stream",
     "text": [
      "Tacnost:  0.8049689440993789\n"
     ]
    }
   ],
   "source": [
    "#Test skup - odredjivanje tacnosti\n",
    "from sklearn.metrics import accuracy_score, confusion_matrix, classification_report\n",
    "\n",
    "y_test_pred = mplc.predict(X_test)\n",
    "test_tacnost = accuracy_score(y_test, y_test_pred)\n",
    "\n",
    "print('Tacnost: ', test_tacnost)"
   ]
  },
  {
   "cell_type": "code",
   "execution_count": 19,
   "metadata": {},
   "outputs": [
    {
     "name": "stdout",
     "output_type": "stream",
     "text": [
      "[[203  89   0]\n",
      " [ 28 436   4]\n",
      " [  0  36   9]]\n"
     ]
    }
   ],
   "source": [
    "# Konfuziona matrica\n",
    "konfuziona_matrica = confusion_matrix(y_test, y_test_pred)\n",
    "print(konfuziona_matrica)"
   ]
  },
  {
   "cell_type": "code",
   "execution_count": 20,
   "metadata": {},
   "outputs": [
    {
     "name": "stdout",
     "output_type": "stream",
     "text": [
      "              precision    recall  f1-score   support\n",
      "\n",
      "           0       0.88      0.70      0.78       292\n",
      "           1       0.78      0.93      0.85       468\n",
      "           2       0.69      0.20      0.31        45\n",
      "\n",
      "    accuracy                           0.80       805\n",
      "   macro avg       0.78      0.61      0.64       805\n",
      "weighted avg       0.81      0.80      0.79       805\n",
      "\n"
     ]
    }
   ],
   "source": [
    "# Izvestaj o klasifikaciji\n",
    "print(classification_report(y_test, y_test_pred))"
   ]
  }
 ],
 "metadata": {
  "kernelspec": {
   "display_name": "Python 3",
   "language": "python",
   "name": "python3"
  },
  "language_info": {
   "codemirror_mode": {
    "name": "ipython",
    "version": 3
   },
   "file_extension": ".py",
   "mimetype": "text/x-python",
   "name": "python",
   "nbconvert_exporter": "python",
   "pygments_lexer": "ipython3",
   "version": "3.7.4"
  }
 },
 "nbformat": 4,
 "nbformat_minor": 2
}
